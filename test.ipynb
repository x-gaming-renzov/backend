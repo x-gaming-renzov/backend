{
 "cells": [
  {
   "cell_type": "code",
   "execution_count": null,
   "metadata": {},
   "outputs": [],
   "source": [
    "import src.graph"
   ]
  },
  {
   "cell_type": "code",
   "execution_count": null,
   "metadata": {},
   "outputs": [],
   "source": [
    "input = {\n",
    "    'file_name': 'smaller_data.json',\n",
    "    'user_id' : 'p007',\n",
    "    'user_session_id' : '1',\n",
    "    'data_info_from_user' : \"json array of events triggered by all minecraft players in a server in choronological order\",\n",
    "    'messages' : []\n",
    "}"
   ]
  },
  {
   "cell_type": "code",
   "execution_count": null,
   "metadata": {},
   "outputs": [],
   "source": [
    "workflow_complied = src.graph.get_feild_name_correcting_task_graph()"
   ]
  },
  {
   "cell_type": "code",
   "execution_count": null,
   "metadata": {},
   "outputs": [],
   "source": [
    "from IPython.display import Image, display\n",
    "\n",
    "try:\n",
    "    display(Image(workflow_complied.get_graph().draw_mermaid_png()))\n",
    "    #save it to a file\n",
    "    workflow_complied.get_graph().draw_mermaid_png(output_file_path=\"workflow.png\")\n",
    "except Exception:\n",
    "    pass"
   ]
  },
  {
   "cell_type": "code",
   "execution_count": null,
   "metadata": {},
   "outputs": [],
   "source": [
    "out = workflow_complied.invoke(input)"
   ]
  },
  {
   "cell_type": "code",
   "execution_count": null,
   "metadata": {},
   "outputs": [],
   "source": [
    "\"\"\"with open(\"temp/p007/1/out.json\", \"r\") as f:\n",
    "    data = f.read()\n",
    "    print(len(data))\"\"\""
   ]
  },
  {
   "cell_type": "code",
   "execution_count": null,
   "metadata": {},
   "outputs": [],
   "source": [
    "\"\"\"with open(\"temp/p007/1/data.json\", \"r\") as f:\n",
    "    data = f.read()\n",
    "    print(len(data))\"\"\""
   ]
  },
  {
   "cell_type": "code",
   "execution_count": 1,
   "metadata": {},
   "outputs": [],
   "source": [
    "from gcloud import storage\n",
    "from oauth2client.service_account import ServiceAccountCredentials\n",
    "import os, dotenv\n",
    "\n",
    "dotenv.load_dotenv()\n",
    "\n",
    "credentials = ServiceAccountCredentials.from_json_keyfile_name('gcreds.json')\n",
    "client = storage.Client(credentials=credentials, project='assetgeneration')\n",
    "bucket = client.get_bucket('xg_live_ops')"
   ]
  },
  {
   "cell_type": "code",
   "execution_count": null,
   "metadata": {},
   "outputs": [],
   "source": [
    "blob = bucket.blob(f'p007/1/smaller_data.json')"
   ]
  },
  {
   "cell_type": "code",
   "execution_count": null,
   "metadata": {},
   "outputs": [],
   "source": [
    "blob.public_url"
   ]
  },
  {
   "cell_type": "code",
   "execution_count": null,
   "metadata": {},
   "outputs": [],
   "source": [
    "import json"
   ]
  },
  {
   "cell_type": "code",
   "execution_count": null,
   "metadata": {},
   "outputs": [],
   "source": [
    "bucket.blob(f'{input[\"user_id\"]}/{input[\"user_session_id\"]}/out.json').upload_from_string(data=json.dumps(dict(out)), content_type=\"application/json\")"
   ]
  },
  {
   "cell_type": "code",
   "execution_count": null,
   "metadata": {},
   "outputs": [],
   "source": [
    "d = json.loads(out['field_info_list'][0].model_dump_json())"
   ]
  },
  {
   "cell_type": "code",
   "execution_count": null,
   "metadata": {},
   "outputs": [],
   "source": [
    "import src.flat.flat.main"
   ]
  },
  {
   "cell_type": "code",
   "execution_count": null,
   "metadata": {},
   "outputs": [],
   "source": [
    "src.flat.flat.main.main(\"temp/p007/1/\", \"original_copy.json\")"
   ]
  },
  {
   "cell_type": "code",
   "execution_count": null,
   "metadata": {},
   "outputs": [],
   "source": [
    "import json "
   ]
  },
  {
   "cell_type": "code",
   "execution_count": null,
   "metadata": {},
   "outputs": [],
   "source": [
    "def flatten_json_leaving_lists(data, parent_key='', sep='.'):\n",
    "    \"\"\"\n",
    "    Flatten JSON data into a list of flat dictionaries, leaving list values as is.\n",
    "\n",
    "    Parameters:\n",
    "    data (dict, list, or any): The JSON data to flatten.\n",
    "    parent_key (str): The base key string used during recursion.\n",
    "    sep (str): Separator used when concatenating keys.\n",
    "\n",
    "    Returns:\n",
    "    list: A list of flat dictionaries.\n",
    "    \"\"\"\n",
    "    flat_list = []\n",
    "\n",
    "    if isinstance(data, dict):\n",
    "        flat_dict = {}\n",
    "        for k, v in data.items():\n",
    "            new_key = f\"{parent_key}{sep}{k}\" if parent_key else k\n",
    "            if isinstance(v, dict):\n",
    "                # Flatten nested dictionary\n",
    "                nested_flat_list = flatten_json_leaving_lists(v, new_key, sep=sep)\n",
    "                if nested_flat_list:\n",
    "                    flat_dict.update(nested_flat_list[0])\n",
    "            elif isinstance(v, list):\n",
    "                # Leave list values as is\n",
    "                flat_dict[new_key] = v\n",
    "            else:\n",
    "                # Primitive value\n",
    "                flat_dict[new_key] = v\n",
    "        flat_list.append(flat_dict)\n",
    "    elif isinstance(data, list):\n",
    "        # Process each item in the list\n",
    "        for item in data:\n",
    "            item_flat_list = flatten_json_leaving_lists(item, parent_key=parent_key, sep=sep)\n",
    "            flat_list.extend(item_flat_list)\n",
    "    else:\n",
    "        # Data is a primitive value\n",
    "        flat_list.append({parent_key or 'value': data})\n",
    "\n",
    "    return flat_list\n"
   ]
  },
  {
   "cell_type": "code",
   "execution_count": 2,
   "metadata": {},
   "outputs": [],
   "source": [
    "from itertools import islice\n",
    "import json"
   ]
  },
  {
   "cell_type": "code",
   "execution_count": 3,
   "metadata": {},
   "outputs": [],
   "source": [
    "def read_first_lines(file_path, num_lines):\n",
    "    with open(file_path, 'r') as file:\n",
    "        return list(islice(file, num_lines))"
   ]
  },
  {
   "cell_type": "code",
   "execution_count": 4,
   "metadata": {},
   "outputs": [],
   "source": [
    "with open(\"temp/2b640d07-3ad2-472f-8c36-d2c4d62e9e92/6f4b4df5-08c8-4346-93a6-344a87bda899/out.json\", \"r\") as f:\n",
    "    data = json.loads(f.read())"
   ]
  },
  {
   "cell_type": "code",
   "execution_count": 5,
   "metadata": {},
   "outputs": [
    {
     "data": {
      "text/plain": [
       "dict_keys(['retained_player_events', 'player_event_history'])"
      ]
     },
     "execution_count": 5,
     "metadata": {},
     "output_type": "execute_result"
    }
   ],
   "source": [
    "data[0].keys()"
   ]
  },
  {
   "cell_type": "code",
   "execution_count": null,
   "metadata": {},
   "outputs": [],
   "source": [
    "with open(\"src/flat/test_jsons/t2.json\", \"w\") as f:\n",
    "    json.dump(flatten_json_leaving_lists(json_data), f, indent=4)"
   ]
  },
  {
   "cell_type": "code",
   "execution_count": null,
   "metadata": {},
   "outputs": [],
   "source": [
    "from pandas import DataFrame\n",
    "import json"
   ]
  },
  {
   "cell_type": "code",
   "execution_count": null,
   "metadata": {},
   "outputs": [],
   "source": [
    "user_id = \"9fcd9778-dd90-435e-864c-d16d082273e9\"\n",
    "user_session_id = \"9add04ac-9eb8-4c24-9eca-40ac833c76ef\""
   ]
  },
  {
   "cell_type": "code",
   "execution_count": null,
   "metadata": {},
   "outputs": [],
   "source": [
    "def get_changes_to_field_names(USER_ID, USER_SESSION_ID) -> DataFrame:\n",
    "    with open(f\"\"\"temp/{USER_ID}/{USER_SESSION_ID}/data_info.json\"\"\", \"r\") as f:\n",
    "        data_info = json.load(f)\n",
    "\n",
    "    changes = []\n",
    "    for field_info in data_info:\n",
    "        if field_info == \"meaning_of_elements_in_data\":\n",
    "            continue\n",
    "        changes.append({\n",
    "            \"field_name\": data_info[field_info]['field_name'],\n",
    "            \"field_name_corrected\": data_info[field_info]['field_new_name']\n",
    "        })\n",
    "\n",
    "    return DataFrame(changes)"
   ]
  },
  {
   "cell_type": "code",
   "execution_count": null,
   "metadata": {},
   "outputs": [],
   "source": [
    "df = get_changes_to_field_names(user_id, user_session_id)"
   ]
  },
  {
   "cell_type": "code",
   "execution_count": null,
   "metadata": {},
   "outputs": [],
   "source": [
    "df"
   ]
  },
  {
   "cell_type": "code",
   "execution_count": null,
   "metadata": {},
   "outputs": [],
   "source": [
    "blob = bucket.blob(f'SJ5WRDaERqO0xmzrYsfgOi4qQH52/1dc4f238-8128-4cb6-a422-6749f053e334/field_name_changes.json')"
   ]
  },
  {
   "cell_type": "code",
   "execution_count": 2,
   "metadata": {},
   "outputs": [],
   "source": [
    "import json\n"
   ]
  },
  {
   "cell_type": "code",
   "execution_count": 3,
   "metadata": {},
   "outputs": [],
   "source": [
    "with open (\"temp/323febd9-11b0-4d6b-b3c9-8b8e21898dd4/f339b2b7-b5d4-49fe-9731-60770f8b4510/data_info.json\", \"r\") as f:\n",
    "    data = json.load(f)"
   ]
  },
  {
   "cell_type": "code",
   "execution_count": 4,
   "metadata": {},
   "outputs": [],
   "source": [
    "with open(\"temp/323febd9-11b0-4d6b-b3c9-8b8e21898dd4/f339b2b7-b5d4-49fe-9731-60770f8b4510/daily_retained_players/data_info.json\", \"r\") as f:\n",
    "    data1 = json.load(f)"
   ]
  },
  {
   "cell_type": "code",
   "execution_count": 5,
   "metadata": {},
   "outputs": [],
   "source": [
    "with open(\"temp/323febd9-11b0-4d6b-b3c9-8b8e21898dd4/f339b2b7-b5d4-49fe-9731-60770f8b4510/d7_retained_player_activity_log/data_info.json\", \"r\") as f:\n",
    "    data2 = json.load(f)"
   ]
  },
  {
   "cell_type": "code",
   "execution_count": 6,
   "metadata": {},
   "outputs": [],
   "source": [
    "with open (\"temp/323febd9-11b0-4d6b-b3c9-8b8e21898dd4/f339b2b7-b5d4-49fe-9731-60770f8b4510/d7_retained_player_activity_log/player_event_log/data_info.json\", \"r\") as f:\n",
    "    data3 = json.load(f)"
   ]
  },
  {
   "cell_type": "code",
   "execution_count": 7,
   "metadata": {},
   "outputs": [],
   "source": [
    "field_mapping = {}"
   ]
  },
  {
   "cell_type": "code",
   "execution_count": 19,
   "metadata": {},
   "outputs": [
    {
     "name": "stdout",
     "output_type": "stream",
     "text": [
      "meaning_of_elements_in_data\n",
      "parent_index_do_not_change\n",
      "mp_country_code\n",
      "event\n",
      "victim_name\n",
      "victim_type\n",
      "distinct_id\n",
      "trade-suggested\n",
      "world\n",
      "timestamp\n",
      "time\n",
      "server\n",
      "advancement\n",
      "username\n",
      "entity_type\n",
      "cause\n",
      "trade-menu\n",
      "reason\n",
      "npc-reply\n",
      "first-chat\n",
      "item\n",
      "item-take\n",
      "item-give\n",
      "block\n",
      "message\n",
      "entity\n"
     ]
    }
   ],
   "source": [
    "for data_info in data3:\n",
    "    print(data_info)\n",
    "    if data_info == \"meaning_of_elements_in_data\":\n",
    "        continue\n",
    "    if data_info == 'parent_index_do_not_change':\n",
    "        continue\n",
    "    element = {}\n",
    "    element['old_name'] = data3[data_info]['field_name']\n",
    "    element['new_name'] = data3[data_info]['field_new_name']\n",
    "    element['score'] = data3[data_info]['semantic_score']\n",
    "    field_mapping[data3[data_info]['field_name']] = element"
   ]
  },
  {
   "cell_type": "code",
   "execution_count": 20,
   "metadata": {},
   "outputs": [
    {
     "data": {
      "text/plain": [
       "{'d7_retained': {'old_name': 'd7_retained',\n",
       "  'new_name': 'd7_retained_player_activity_log',\n",
       "  'score': 4.0},\n",
       " 'd14_retained': {'old_name': 'd14_retained',\n",
       "  'new_name': 'daily_retained_players',\n",
       "  'score': 4.0},\n",
       " 'events': {'old_name': 'events',\n",
       "  'new_name': 'player_event_log',\n",
       "  'score': 4.0},\n",
       " 'player_id': {'old_name': 'player_id',\n",
       "  'new_name': 'unique_player_identifier',\n",
       "  'score': 4.0},\n",
       " 'mp_country_code': {'old_name': 'mp_country_code',\n",
       "  'new_name': 'player_country_code',\n",
       "  'score': 4.0},\n",
       " 'event': {'old_name': 'event', 'new_name': 'event_type', 'score': 4.0},\n",
       " 'victim_name': {'old_name': 'victim_name',\n",
       "  'new_name': 'chat_message_sender',\n",
       "  'score': 4.0},\n",
       " 'victim_type': {'old_name': 'victim_type',\n",
       "  'new_name': 'victim_player_names',\n",
       "  'score': 4.0},\n",
       " 'distinct_id': {'old_name': 'distinct_id',\n",
       "  'new_name': 'player_unique_identifier',\n",
       "  'score': 4.0},\n",
       " 'trade-suggested': {'old_name': 'trade-suggested',\n",
       "  'new_name': 'suggested_trade_value',\n",
       "  'score': 4.0},\n",
       " 'world': {'old_name': 'world',\n",
       "  'new_name': 'virtual_game_environment',\n",
       "  'score': 4.0},\n",
       " 'timestamp': {'old_name': 'timestamp',\n",
       "  'new_name': 'event_occurred_at',\n",
       "  'score': 4.0},\n",
       " 'time': {'old_name': 'time', 'new_name': 'event_timestamp_int', 'score': 4.0},\n",
       " 'server': {'old_name': 'server',\n",
       "  'new_name': 'game_server_name',\n",
       "  'score': 4.0},\n",
       " 'advancement': {'old_name': 'advancement',\n",
       "  'new_name': 'player_advancement_id',\n",
       "  'score': 4.0},\n",
       " 'username': {'old_name': 'username',\n",
       "  'new_name': 'player_username',\n",
       "  'score': 4.0},\n",
       " 'entity_type': {'old_name': 'entity_type',\n",
       "  'new_name': 'traded_item_details',\n",
       "  'score': 4.0},\n",
       " 'cause': {'old_name': 'cause',\n",
       "  'new_name': 'block_interaction_cause',\n",
       "  'score': 4.0},\n",
       " 'trade-menu': {'old_name': 'trade-menu',\n",
       "  'new_name': 'npc_trade_suggestions',\n",
       "  'score': 4.0},\n",
       " 'reason': {'old_name': 'reason',\n",
       "  'new_name': 'interaction_purpose',\n",
       "  'score': 4.0},\n",
       " 'npc-reply': {'old_name': 'npc-reply',\n",
       "  'new_name': 'npc_trade_response_items',\n",
       "  'score': 4.0},\n",
       " 'first-chat': {'old_name': 'first-chat',\n",
       "  'new_name': 'first_chat_message',\n",
       "  'score': 4.0},\n",
       " 'item': {'old_name': 'item', 'new_name': 'item_id', 'score': 4.0},\n",
       " 'item-take': {'old_name': 'item-take',\n",
       "  'new_name': 'item_taken_details',\n",
       "  'score': 4.0},\n",
       " 'item-give': {'old_name': 'item-give',\n",
       "  'new_name': 'item_giving_transaction_details',\n",
       "  'score': 4.0},\n",
       " 'block': {'old_name': 'block',\n",
       "  'new_name': 'crafting_recipe_block',\n",
       "  'score': 4.0},\n",
       " 'message': {'old_name': 'message',\n",
       "  'new_name': 'player_interaction_message',\n",
       "  'score': 4.0},\n",
       " 'entity': {'old_name': 'entity',\n",
       "  'new_name': 'player_interaction_entity',\n",
       "  'score': 4.0}}"
      ]
     },
     "execution_count": 20,
     "metadata": {},
     "output_type": "execute_result"
    }
   ],
   "source": [
    "field_mapping"
   ]
  },
  {
   "cell_type": "code",
   "execution_count": 21,
   "metadata": {},
   "outputs": [],
   "source": [
    "with open(\"temp_data_info.json\", \"w\") as f:\n",
    "    json.dump(field_mapping, f, indent=4)    "
   ]
  },
  {
   "cell_type": "code",
   "execution_count": 1,
   "metadata": {},
   "outputs": [
    {
     "name": "stdout",
     "output_type": "stream",
     "text": [
      "{'time', 'z', 'details', 'loc', 'x', 'items_dropped', 'evnt', 'cause', 'killer', 'y', 'pid'}\n"
     ]
    }
   ],
   "source": [
    "def extract_keys(data):\n",
    "    keys = set()\n",
    "\n",
    "    if isinstance(data, dict):\n",
    "        for key, value in data.items():\n",
    "            keys.add(key)\n",
    "            keys.update(extract_keys(value))\n",
    "\n",
    "    elif isinstance(data, list):\n",
    "        for item in data:\n",
    "            keys.update(extract_keys(item))\n",
    "\n",
    "    return keys\n",
    "\n",
    "\n",
    "# Example JSON data\n",
    "json_data = {\n",
    "    \"evnt\": \"player_death\",\n",
    "    \"pid\": \"player_12345\",\n",
    "    \"time\": \"2024-11-21T10:15:00Z\",\n",
    "    \"loc\": {\"x\": 120, \"y\": 63, \"z\": -320},\n",
    "    \"details\": {\n",
    "        \"cause\": \"fall_damage\",\n",
    "        \"killer\": None,\n",
    "        \"items_dropped\": [\"diamond_pickaxe\", \"iron_helmet\"]\n",
    "    }\n",
    "}\n",
    "\n",
    "# Extract all unique keys\n",
    "all_keys = extract_keys(json_data)\n",
    "print(all_keys)\n"
   ]
  },
  {
   "cell_type": "code",
   "execution_count": 3,
   "metadata": {},
   "outputs": [
    {
     "name": "stdout",
     "output_type": "stream",
     "text": [
      "{\n",
      "  \"evnt\": \"player_death\",\n",
      "  \"pid\": \"player_12345\",\n",
      "  \"time\": \"2024-11-21T10:15:00Z\",\n",
      "  \"loc\": {\n",
      "    \"x\": 120,\n",
      "    \"y\": 63,\n",
      "    \"z\": -320\n",
      "  },\n",
      "  \"details\": {\n",
      "    \"cause\": \"fall_damage\",\n",
      "    \"killer\": null,\n",
      "    \"items_droppeda\": [\n",
      "      \"diamond_pickaxe\",\n",
      "      \"iron_helmet\"\n",
      "    ],\n",
      "    \"pid\": \"nested_player_67890\"\n",
      "  }\n",
      "}\n"
     ]
    }
   ],
   "source": [
    "def rename_field_in_json(data, old_field_name, new_field_name):\n",
    "    if isinstance(data, dict):\n",
    "        new_data = {}\n",
    "        for key, value in data.items():\n",
    "            # Rename the key if it matches the old_field_name\n",
    "            new_key = new_field_name if key == old_field_name else key\n",
    "            new_data[new_key] = rename_field_in_json(value, old_field_name, new_field_name)\n",
    "        return new_data\n",
    "\n",
    "    elif isinstance(data, list):\n",
    "        # Recursively apply the function to each item in the list\n",
    "        return [rename_field_in_json(item, old_field_name, new_field_name) for item in data]\n",
    "\n",
    "    # If data is not a dict or list, return it as is\n",
    "    return data\n",
    "\n",
    "\n",
    "# Example JSON data\n",
    "json_data = {\n",
    "    \"evnt\": \"player_death\",\n",
    "    \"pid\": \"player_12345\",\n",
    "    \"time\": \"2024-11-21T10:15:00Z\",\n",
    "    \"loc\": {\"x\": 120, \"y\": 63, \"z\": -320},\n",
    "    \"details\": {\n",
    "        \"cause\": \"fall_damage\",\n",
    "        \"killer\": None,\n",
    "        \"items_dropped\": [\"diamond_pickaxe\", \"iron_helmet\"],\n",
    "        \"pid\": \"nested_player_67890\"\n",
    "    }\n",
    "}\n",
    "\n",
    "# Rename 'pid' to 'player_id'\n",
    "updated_json = rename_field_in_json(json_data, \"items_dropped\", \"items_droppeda\")\n",
    "\n",
    "# Display the updated JSON\n",
    "import json\n",
    "print(json.dumps(updated_json, indent=2))\n"
   ]
  },
  {
   "cell_type": "code",
   "execution_count": 1,
   "metadata": {},
   "outputs": [],
   "source": [
    "from src.utils.large_files_ops import get_field_info_list\n",
    "import json\n",
    "\n",
    "with open(\"temp/pHSJCwilv9d1hBv8hr3iWiFZxS73/00b07067-1b51-4da2-ad4c-1aaf13b25a86/data.json\", \"r\") as f:\n",
    "    data = json.load(f)\n",
    "\n",
    "field_info_list = get_field_info_list(data)"
   ]
  },
  {
   "cell_type": "code",
   "execution_count": 3,
   "metadata": {},
   "outputs": [
    {
     "data": {
      "text/plain": [
       "[{'field_name': 'x',\n",
       "  'field_type': 'int',\n",
       "  'field_description': 'None',\n",
       "  'field_values': ['100', '105', '120'],\n",
       "  'elements_where_field_present': ['100', '105', '120']},\n",
       " {'field_name': 'y',\n",
       "  'field_type': 'int',\n",
       "  'field_description': 'None',\n",
       "  'field_values': ['64', '65', '63'],\n",
       "  'elements_where_field_present': ['64', '65', '63']},\n",
       " {'field_name': 'z',\n",
       "  'field_type': 'int',\n",
       "  'field_description': 'None',\n",
       "  'field_values': ['-300', '-310', '-320'],\n",
       "  'elements_where_field_present': ['-300', '-310', '-320']},\n",
       " {'field_name': 'msg',\n",
       "  'field_type': 'str',\n",
       "  'field_description': 'None',\n",
       "  'field_values': ['Player joined the game', 'Anyone up for a raid?'],\n",
       "  'elements_where_field_present': ['Player joined the game',\n",
       "   'Anyone up for a raid?']},\n",
       " {'field_name': 'evnt',\n",
       "  'field_type': 'str',\n",
       "  'field_description': 'None',\n",
       "  'field_values': ['player_join', 'block_break', 'chat_message'],\n",
       "  'elements_where_field_present': ['player_join',\n",
       "   'block_break',\n",
       "   'chat_message']},\n",
       " {'field_name': 'pid',\n",
       "  'field_type': 'str',\n",
       "  'field_description': 'None',\n",
       "  'field_values': ['player_12345', 'player_12345', 'player_67890'],\n",
       "  'elements_where_field_present': ['player_12345',\n",
       "   'player_12345',\n",
       "   'player_67890']},\n",
       " {'field_name': 'time',\n",
       "  'field_type': 'str',\n",
       "  'field_description': 'None',\n",
       "  'field_values': ['2024-11-21T10:00:00Z',\n",
       "   '2024-11-21T10:05:00Z',\n",
       "   '2024-11-21T10:10:00Z'],\n",
       "  'elements_where_field_present': ['2024-11-21T10:00:00Z',\n",
       "   '2024-11-21T10:05:00Z',\n",
       "   '2024-11-21T10:10:00Z']},\n",
       " {'field_name': 'loc',\n",
       "  'field_type': 'dict',\n",
       "  'field_description': 'None',\n",
       "  'field_values': [\"{'x': 100, 'y': 64, 'z': -300}\",\n",
       "   \"[{'x': 105, 'y': 65, 'z': -310, 'servers': [{'server_id': 'server_1', 'server_name': 'Survival', 'se...\",\n",
       "   \"{'x': 120, 'y': 63, 'z': -320}\"],\n",
       "  'elements_where_field_present': [\"{'x': 100, 'y': 64, 'z': -300}\",\n",
       "   \"[{'x': 105, 'y': 65, 'z': -310, 'servers': [{'server_id': 'server_1', 'server_name': 'Survival', 'se...\",\n",
       "   \"{'x': 120, 'y': 63, 'z': -320}\"]},\n",
       " {'field_name': 'details',\n",
       "  'field_type': 'dict',\n",
       "  'field_description': 'None',\n",
       "  'field_values': [\"{'msg': 'Player joined the game'}\",\n",
       "   \"{'block': 'stone', 'tool': 'diamond_pickaxe', 'dropping': ['cobblestone']}\",\n",
       "   \"{'msg': 'Anyone up for a raid?', 'chat_channel': 'global'}\"],\n",
       "  'elements_where_field_present': [\"{'msg': 'Player joined the game'}\",\n",
       "   \"{'block': 'stone', 'tool': 'diamond_pickaxe', 'dropping': ['cobblestone']}\",\n",
       "   \"{'msg': 'Anyone up for a raid?', 'chat_channel': 'global'}\"]},\n",
       " {'field_name': 'server_id',\n",
       "  'field_type': 'str',\n",
       "  'field_description': 'None',\n",
       "  'field_values': ['server_1'],\n",
       "  'elements_where_field_present': ['server_1']},\n",
       " {'field_name': 'server_name',\n",
       "  'field_type': 'str',\n",
       "  'field_description': 'None',\n",
       "  'field_values': ['Survival'],\n",
       "  'elements_where_field_present': ['Survival']},\n",
       " {'field_name': 'server_type',\n",
       "  'field_type': 'str',\n",
       "  'field_description': 'None',\n",
       "  'field_values': ['PvE'],\n",
       "  'elements_where_field_present': ['PvE']},\n",
       " {'field_name': 'servers',\n",
       "  'field_type': 'list',\n",
       "  'field_description': 'None',\n",
       "  'field_values': [\"[{'server_id': 'server_1', 'server_name': 'Survival', 'server_type': 'PvE'}]\"],\n",
       "  'elements_where_field_present': [\"[{'server_id': 'server_1', 'server_name': 'Survival', 'server_type': 'PvE'}]\"]},\n",
       " {'field_name': 'block',\n",
       "  'field_type': 'str',\n",
       "  'field_description': 'None',\n",
       "  'field_values': ['stone'],\n",
       "  'elements_where_field_present': ['stone']},\n",
       " {'field_name': 'tool',\n",
       "  'field_type': 'str',\n",
       "  'field_description': 'None',\n",
       "  'field_values': ['diamond_pickaxe'],\n",
       "  'elements_where_field_present': ['diamond_pickaxe']},\n",
       " {'field_name': 'dropping',\n",
       "  'field_type': 'list',\n",
       "  'field_description': 'None',\n",
       "  'field_values': [\"['cobblestone']\"],\n",
       "  'elements_where_field_present': [\"['cobblestone']\"]},\n",
       " {'field_name': 'chat_channel',\n",
       "  'field_type': 'str',\n",
       "  'field_description': 'None',\n",
       "  'field_values': ['global'],\n",
       "  'elements_where_field_present': ['global']},\n",
       " {'field_name': 'cause',\n",
       "  'field_type': 'str',\n",
       "  'field_description': 'None',\n",
       "  'field_values': ['fall_damage'],\n",
       "  'elements_where_field_present': ['fall_damage']},\n",
       " {'field_name': 'killer',\n",
       "  'field_type': 'NoneType',\n",
       "  'field_description': 'None',\n",
       "  'field_values': ['None'],\n",
       "  'elements_where_field_present': ['None']},\n",
       " {'field_name': 'items_dropped',\n",
       "  'field_type': 'list',\n",
       "  'field_description': 'None',\n",
       "  'field_values': [\"['diamond_pickaxe', 'iron_helmet']\"],\n",
       "  'elements_where_field_present': [\"['diamond_pickaxe', 'iron_helmet']\"]},\n",
       " {'field_name': 'mob_type',\n",
       "  'field_type': 'str',\n",
       "  'field_description': 'None',\n",
       "  'field_values': ['zombie'],\n",
       "  'elements_where_field_present': ['zombie']},\n",
       " {'field_name': 'tool_used',\n",
       "  'field_type': 'str',\n",
       "  'field_description': 'None',\n",
       "  'field_values': ['iron_sword'],\n",
       "  'elements_where_field_present': ['iron_sword']},\n",
       " {'field_name': 'dropped_items',\n",
       "  'field_type': 'list',\n",
       "  'field_description': 'None',\n",
       "  'field_values': [\"['rotten_flesh', 'iron_ingot']\"],\n",
       "  'elements_where_field_present': [\"['rotten_flesh', 'iron_ingot']\"]},\n",
       " {'field_name': 'crafted_item',\n",
       "  'field_type': 'str',\n",
       "  'field_description': 'None',\n",
       "  'field_values': ['golden_apple'],\n",
       "  'elements_where_field_present': ['golden_apple']},\n",
       " {'field_name': 'ingredients_used',\n",
       "  'field_type': 'list',\n",
       "  'field_description': 'None',\n",
       "  'field_values': [\"['gold_ingot', 'apple']\"],\n",
       "  'elements_where_field_present': [\"['gold_ingot', 'apple']\"]}]"
      ]
     },
     "execution_count": 3,
     "metadata": {},
     "output_type": "execute_result"
    }
   ],
   "source": [
    "field_info_list"
   ]
  },
  {
   "cell_type": "code",
   "execution_count": null,
   "metadata": {},
   "outputs": [],
   "source": []
  }
 ],
 "metadata": {
  "kernelspec": {
   "display_name": ".venv",
   "language": "python",
   "name": "python3"
  },
  "language_info": {
   "codemirror_mode": {
    "name": "ipython",
    "version": 3
   },
   "file_extension": ".py",
   "mimetype": "text/x-python",
   "name": "python",
   "nbconvert_exporter": "python",
   "pygments_lexer": "ipython3",
   "version": "3.12.3"
  }
 },
 "nbformat": 4,
 "nbformat_minor": 2
}
