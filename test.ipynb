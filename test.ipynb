{
 "cells": [
  {
   "cell_type": "code",
   "execution_count": 1,
   "metadata": {},
   "outputs": [],
   "source": [
    "import json, os"
   ]
  },
  {
   "cell_type": "code",
   "execution_count": 2,
   "metadata": {},
   "outputs": [
    {
     "name": "stderr",
     "output_type": "stream",
     "text": [
      "USER_AGENT environment variable not set, consider setting it to identify your requests.\n"
     ]
    },
    {
     "name": "stdout",
     "output_type": "stream",
     "text": [
      "\u001b[33mInitializing retriever tool...\u001b[0m\n",
      "\u001b[32mRetriever created successfully\u001b[0m\n",
      "\u001b[32mRetriever tool created successfully\u001b[0m\n",
      "\u001b[32mChatOpenAI model initialized\u001b[0m\n",
      "\u001b[32mChatOpenAI small model initialized\u001b[0m\n"
     ]
    }
   ],
   "source": [
    "from src.nodes.extrect_correct_field_names_nodes import get_first_few_elements, get_element_meaning, preprocess_field_info, generate_field_name_description"
   ]
  },
  {
   "cell_type": "code",
   "execution_count": 3,
   "metadata": {},
   "outputs": [],
   "source": [
    "input = {\n",
    "    'file_name': 'smaller_data.json',\n",
    "    'user_id' : 'p007',\n",
    "    'user_session_id' : '1',\n",
    "    'data_info_from_user' : \"json array of events triggered by all minecraft players in a server in choronological order\",\n",
    "    'messages' : []\n",
    "}"
   ]
  },
  {
   "cell_type": "code",
   "execution_count": 4,
   "metadata": {},
   "outputs": [
    {
     "name": "stdout",
     "output_type": "stream",
     "text": [
      "\u001b[34mChecking/creating directory: /Volumes/RenzovPersonal/packages/LiveOpsFrontDashboardMain/backend/temp/p007/1\u001b[0m\n",
      "\u001b[34mOpening file: smaller_data.json\u001b[0m\n",
      "\u001b[32mFirst few elements extracted successfully\u001b[0m\n"
     ]
    }
   ],
   "source": [
    "input = get_first_few_elements(input)"
   ]
  },
  {
   "cell_type": "code",
   "execution_count": 5,
   "metadata": {},
   "outputs": [
    {
     "name": "stdout",
     "output_type": "stream",
     "text": [
      "\u001b[33mGenerating meaning of elements in data...\u001b[0m\n",
      "\u001b[32mMeaning of elements generated successfully\u001b[0m\n"
     ]
    }
   ],
   "source": [
    "input = get_element_meaning(input)"
   ]
  },
  {
   "cell_type": "code",
   "execution_count": 6,
   "metadata": {},
   "outputs": [
    {
     "name": "stdout",
     "output_type": "stream",
     "text": [
      "\u001b[34mProcessing field information in: /Volumes/RenzovPersonal/packages/LiveOpsFrontDashboardMain/backend/temp/p007/1\u001b[0m\n",
      "\u001b[34mOpening file: smaller_data.json\u001b[0m\n",
      "\u001b[32mFile data loaded successfully\u001b[0m\n",
      "\u001b[97mUnique fields lenth: 52\u001b[0m\n",
      "\u001b[33mNew field added: event\u001b[0m\n",
      "\u001b[33mNew field added: timestamp\u001b[0m\n",
      "\u001b[33mNew field added: time\u001b[0m\n",
      "\u001b[33mNew field added: distinct_id\u001b[0m\n",
      "\u001b[33mNew field added: $city\u001b[0m\n",
      "\u001b[33mNew field added: $insert_id\u001b[0m\n",
      "\u001b[33mNew field added: $ip\u001b[0m\n",
      "\u001b[33mNew field added: $mp_api_endpoint\u001b[0m\n",
      "\u001b[33mNew field added: $mp_api_timestamp_ms\u001b[0m\n",
      "\u001b[33mNew field added: $region\u001b[0m\n",
      "\u001b[33mNew field added: mp_country_code\u001b[0m\n",
      "\u001b[33mNew field added: mp_lib\u001b[0m\n",
      "\u001b[33mNew field added: mp_processing_time_ms\u001b[0m\n",
      "\u001b[33mNew field added: server\u001b[0m\n",
      "\u001b[33mNew field added: $identified_id\u001b[0m\n",
      "\u001b[33mNew field added: $import\u001b[0m\n",
      "\u001b[33mNew field added: $lib_version\u001b[0m\n",
      "\u001b[33mNew field added: $source\u001b[0m\n",
      "\u001b[33mNew field added: $user_id\u001b[0m\n",
      "\u001b[33mNew field added: event_original_name\u001b[0m\n",
      "\u001b[33mNew field added: id\u001b[0m\n",
      "\u001b[33mNew field added: type\u001b[0m\n",
      "\u001b[33mNew field added: username\u001b[0m\n",
      "\u001b[33mNew field added: command\u001b[0m\n",
      "\u001b[33mNew field added: full-command\u001b[0m\n",
      "\u001b[33mNew field added: device\u001b[0m\n",
      "\u001b[33mNew field added: npc\u001b[0m\n",
      "\u001b[33mNew field added: world\u001b[0m\n",
      "\u001b[33mNew field added: message\u001b[0m\n",
      "\u001b[33mNew field added: to\u001b[0m\n",
      "\u001b[33mNew field added: inventory\u001b[0m\n",
      "\u001b[33mNew field added: trade-menu\u001b[0m\n",
      "\u001b[33mNew field added: trade-suggested\u001b[0m\n",
      "\u001b[33mNew field added: first-chat\u001b[0m\n",
      "\u001b[33mNew field added: block\u001b[0m\n",
      "\u001b[33mNew field added: cause\u001b[0m\n",
      "\u001b[33mNew field added: duration\u001b[0m\n",
      "\u001b[33mNew field added: item\u001b[0m\n",
      "\u001b[33mNew field added: advancement\u001b[0m\n",
      "\u001b[33mNew field added: item-give\u001b[0m\n",
      "\u001b[33mNew field added: item-take\u001b[0m\n",
      "\u001b[33mNew field added: victim_name\u001b[0m\n",
      "\u001b[33mNew field added: victim_type\u001b[0m\n",
      "\u001b[33mNew field added: exp\u001b[0m\n",
      "\u001b[97mAccounted fields length: 44\u001b[0m\n",
      "\u001b[97mField info list length: 44\u001b[0m\n",
      "\u001b[33mUnaccounted field added: npc-reply\u001b[0m\n",
      "\u001b[33mUnaccounted field added: refer-code\u001b[0m\n",
      "\u001b[33mUnaccounted field added: entity_type\u001b[0m\n",
      "\u001b[33mUnaccounted field added: reason\u001b[0m\n",
      "\u001b[33mUnaccounted field added: entity\u001b[0m\n",
      "\u001b[33mUnaccounted field added: msg\u001b[0m\n",
      "\u001b[33mUnaccounted field added: reply\u001b[0m\n",
      "\u001b[33mUnaccounted field added: segment_source_name\u001b[0m\n",
      "\u001b[97mUnaccounted fields length: 8\u001b[0m\n",
      "\u001b[32mField information processed successfully\u001b[0m\n"
     ]
    }
   ],
   "source": [
    "input = preprocess_field_info(input)"
   ]
  },
  {
   "cell_type": "code",
   "execution_count": 7,
   "metadata": {},
   "outputs": [
    {
     "name": "stdout",
     "output_type": "stream",
     "text": [
      "\u001b[33mGenerating field description...\u001b[0m\n",
      "\u001b[34mGenerating description for field: event\u001b[0m\n",
      "\u001b[32mNew name generated : event_type\u001b[0m\n",
      "\u001b[32mDescription generated : Indicates the specific type of event triggered by players in the game. It can represent player actions like joining, commands used, NPC interactions, or chat events.\u001b[0m\n",
      "\u001b[34mGenerating description for field: timestamp\u001b[0m\n",
      "\u001b[32mNew name generated : event_timestamp\u001b[0m\n",
      "\u001b[32mDescription generated : Records the exact date and time when a specific event occurred in the game. It provides a chronological context for the actions taken by players.\u001b[0m\n",
      "\u001b[34mGenerating description for field: time\u001b[0m\n",
      "\u001b[32mNew name generated : event_time_epoch\u001b[0m\n",
      "\u001b[32mDescription generated : Represents the timestamp of the event in epoch format. This field captures the precise moment an event occurred on the server.\u001b[0m\n",
      "\u001b[34mGenerating description for field: distinct_id\u001b[0m\n",
      "\u001b[32mNew name generated : unique_player_identifier\u001b[0m\n",
      "\u001b[32mDescription generated : A unique identifier representing a player's identity across different events. This ID remains consistent for a player, enabling tracking of their actions.\u001b[0m\n",
      "\u001b[34mGenerating description for field: $city\u001b[0m\n",
      "\u001b[32mNew name generated : player_city\u001b[0m\n",
      "\u001b[32mDescription generated : The name of the city where the player is located. This field captures the geographical city information for each player event.\u001b[0m\n",
      "\u001b[34mGenerating description for field: $insert_id\u001b[0m\n",
      "\u001b[32mNew name generated : insert_id\u001b[0m\n",
      "\u001b[32mDescription generated : A unique identifier assigned to each event instance. This ID helps track specific events triggered by players.\u001b[0m\n",
      "\u001b[34mGenerating description for field: $ip\u001b[0m\n",
      "\u001b[32mNew name generated : player_ip_address\u001b[0m\n",
      "\u001b[32mDescription generated : The IP address of the player at the time of the event. This field helps in identifying the geographical location of the player.\u001b[0m\n",
      "\u001b[34mGenerating description for field: $mp_api_endpoint\u001b[0m\n",
      "\u001b[32mNew name generated : mixpanel_api_endpoint\u001b[0m\n",
      "\u001b[32mDescription generated : This field indicates the endpoint used for Mixpanel API interactions. It provides the URL for tracking events and user actions.\u001b[0m\n",
      "\u001b[34mGenerating description for field: $mp_api_timestamp_ms\u001b[0m\n",
      "\u001b[32mNew name generated : event_timestamp_in_milliseconds\u001b[0m\n",
      "\u001b[32mDescription generated : Represents the timestamp of the event occurrence in milliseconds since epoch. This field is used to track the exact time an event was triggered.\u001b[0m\n",
      "\u001b[34mGenerating description for field: $region\u001b[0m\n",
      "\u001b[32mNew name generated : player_region\u001b[0m\n",
      "\u001b[32mDescription generated : Indicates the geographical region of the player at the time of the event. This field typically holds values representing different regions, such as 'Maharashtra'.\u001b[0m\n",
      "\u001b[34mGenerating description for field: mp_country_code\u001b[0m\n",
      "\u001b[32mNew name generated : player_country_code\u001b[0m\n",
      "\u001b[32mDescription generated : The country code representing the player's location during the event. This field helps to identify the geographical origin of the player.\u001b[0m\n",
      "\u001b[34mGenerating description for field: mp_lib\u001b[0m\n",
      "\u001b[32mNew name generated : mixpanel_library\u001b[0m\n",
      "\u001b[32mDescription generated : Indicates the library used for Mixpanel analytics. Values can include various identifiers such as 'jdk' or 'Segment Actions: analytics-java'.\u001b[0m\n",
      "\u001b[34mGenerating description for field: mp_processing_time_ms\u001b[0m\n",
      "\u001b[32mNew name generated : mp_api_processing_time_ms\u001b[0m\n",
      "\u001b[32mDescription generated : The time taken for processing the Mixpanel API request in milliseconds. This value indicates the efficiency of the API call during various player events.\u001b[0m\n",
      "\u001b[34mGenerating description for field: server\u001b[0m\n",
      "\u001b[32mNew name generated : server_name\u001b[0m\n",
      "\u001b[32mDescription generated : The name of the server where the event occurred. This identifies the specific server instance participating in the event.\u001b[0m\n",
      "\u001b[34mGenerating description for field: $identified_id\u001b[0m\n",
      "\u001b[32mNew name generated : identified_player_id\u001b[0m\n",
      "\u001b[32mDescription generated : A unique identifier string representing the player's identity. This ID is consistent across different events for the same player.\u001b[0m\n",
      "\u001b[34mGenerating description for field: $import\u001b[0m\n",
      "\u001b[32mNew name generated : is_imported\u001b[0m\n",
      "\u001b[32mDescription generated : Indicates whether the event data has been imported into the system. This field is a boolean value, always set to true in the provided events.\u001b[0m\n",
      "\u001b[34mGenerating description for field: $lib_version\u001b[0m\n",
      "\u001b[32mNew name generated : library_version\u001b[0m\n",
      "\u001b[32mDescription generated : Specifies the version of the library used in the event tracking. This field helps identify compatibility and functionality of the analytics library in use.\u001b[0m\n",
      "\u001b[34mGenerating description for field: $source\u001b[0m\n",
      "\u001b[32mNew name generated : data_source\u001b[0m\n",
      "\u001b[32mDescription generated : Indicates the source of the data for the event. This field reflects the system or service from which the event was generated.\u001b[0m\n",
      "\u001b[34mGenerating description for field: $user_id\u001b[0m\n",
      "\u001b[32mNew name generated : user_identifier\u001b[0m\n",
      "\u001b[32mDescription generated : A unique identifier associated with a player in the server. This ID is used to track player events and interactions across the game.\u001b[0m\n",
      "\u001b[34mGenerating description for field: event_original_name\u001b[0m\n",
      "\u001b[32mNew name generated : event_type\u001b[0m\n",
      "\u001b[32mDescription generated : The original name of the event triggered by the player. This indicates the specific action or interaction that occurred during gameplay.\u001b[0m\n",
      "\u001b[34mGenerating description for field: id\u001b[0m\n",
      "\u001b[32mNew name generated : distinct_player_identifier\u001b[0m\n",
      "\u001b[32mDescription generated : A unique identifier string assigned to each player event, ensuring distinct tracking across server interactions. This ID can represent a player’s identity in various events.\u001b[0m\n",
      "\u001b[34mGenerating description for field: type\u001b[0m\n",
      "\u001b[32mNew name generated : event_type\u001b[0m\n",
      "\u001b[32mDescription generated : Indicates the type of event related to the player action. Possible values include 'bedrock', 'interact', 'chat', and 'java'.\u001b[0m\n",
      "\u001b[34mGenerating description for field: username\u001b[0m\n",
      "\u001b[32mNew name generated : player_username\u001b[0m\n",
      "\u001b[32mDescription generated : The unique identifier representing a player's in-game name. This username is used across various events triggered by the player.\u001b[0m\n",
      "\u001b[34mGenerating description for field: command\u001b[0m\n",
      "\u001b[32mNew name generated : command_used\u001b[0m\n",
      "\u001b[32mDescription generated : Represents the command issued by a player during the event. It captures player interactions and actions executed through commands.\u001b[0m\n",
      "\u001b[34mGenerating description for field: full-command\u001b[0m\n",
      "\u001b[32mNew name generated : full_command\u001b[0m\n",
      "\u001b[32mDescription generated : The complete command input by the player, including any arguments. This field captures the entire string representation of the command executed.\u001b[0m\n",
      "\u001b[34mGenerating description for field: device\u001b[0m\n",
      "\u001b[32mNew name generated : player_device_type\u001b[0m\n",
      "\u001b[32mDescription generated : Indicates the type of device used by the player during the event. This can be either 'bedrock' or 'java', representing different Minecraft versions.\u001b[0m\n",
      "\u001b[34mGenerating description for field: npc\u001b[0m\n",
      "\u001b[32mNew name generated : npc_identifier\u001b[0m\n",
      "\u001b[32mDescription generated : Represents the unique identifier of an NPC involved in events. It can either be a name or a UUID associated with the NPC.\u001b[0m\n",
      "\u001b[34mGenerating description for field: world\u001b[0m\n",
      "\u001b[32mNew name generated : current_world\u001b[0m\n",
      "\u001b[32mDescription generated : Represents the name of the world where the event is taking place. This field is used in various player-triggered events.\u001b[0m\n",
      "\u001b[34mGenerating description for field: message\u001b[0m\n",
      "\u001b[32mNew name generated : player_chat_message\u001b[0m\n",
      "\u001b[32mDescription generated : This field contains the chat messages sent by players during events such as player chat or NPC interaction. It reflects the player's text input within the game environment.\u001b[0m\n",
      "\u001b[34mGenerating description for field: to\u001b[0m\n",
      "\u001b[32mNew name generated : message_target_players\u001b[0m\n",
      "\u001b[32mDescription generated : Lists the players who are the intended recipients of the chat message. This field captures the player names involved in the communication.\u001b[0m\n",
      "\u001b[34mGenerating description for field: inventory\u001b[0m\n",
      "\u001b[32mNew name generated : player_inventory\u001b[0m\n",
      "\u001b[32mDescription generated : A string representation of the items held by the player in their inventory. This includes quantities and types of items available during gameplay.\u001b[0m\n",
      "\u001b[34mGenerating description for field: trade-menu\u001b[0m\n",
      "\u001b[32mNew name generated : trade_menu_items\u001b[0m\n",
      "\u001b[32mDescription generated : A list of items available for trade, including quantities and item types. Each entry specifies the items a player can offer or receive during a trade.\u001b[0m\n",
      "\u001b[34mGenerating description for field: trade-suggested\u001b[0m\n",
      "\u001b[32mNew name generated : trade_offer_suggestions\u001b[0m\n",
      "\u001b[32mDescription generated : A list of suggested trades based on player interactions. Each suggestion includes items to give and take, along with reasons for the trade.\u001b[0m\n",
      "\u001b[34mGenerating description for field: first-chat\u001b[0m\n",
      "\u001b[32mNew name generated : is_first_chat\u001b[0m\n",
      "\u001b[32mDescription generated : Indicates whether this is the player's first chat interaction during an NPC interaction. A boolean value that signifies the novelty of the chat event.\u001b[0m\n",
      "\u001b[34mGenerating description for field: block\u001b[0m\n",
      "\u001b[32mNew name generated : block_type\u001b[0m\n",
      "\u001b[32mDescription generated : Indicates the type of block being interacted with in the event. This field captures the specific block identifier, such as 'GRASS', during block-related actions.\u001b[0m\n",
      "\u001b[34mGenerating description for field: cause\u001b[0m\n",
      "\u001b[32mNew name generated : event_cause\u001b[0m\n",
      "\u001b[32mDescription generated : Indicates the reason behind a player's death in the game. Possible values include environmental causes like FALL or actions from other entities, such as ENTITY_ATTACK.\u001b[0m\n",
      "\u001b[34mGenerating description for field: duration\u001b[0m\n",
      "\u001b[32mNew name generated : event_duration\u001b[0m\n",
      "\u001b[32mDescription generated : Represents the duration of the event in seconds. This field captures the length of time for which an event was active.\u001b[0m\n",
      "\u001b[34mGenerating description for field: item\u001b[0m\n",
      "\u001b[32mNew name generated : crafted_item\u001b[0m\n",
      "\u001b[32mDescription generated : Represents the item that was crafted during the CraftItemEvent. It specifically indicates the type of item involved in the crafting process.\u001b[0m\n",
      "\u001b[34mGenerating description for field: advancement\u001b[0m\n",
      "\u001b[32mNew name generated : player_advancement\u001b[0m\n",
      "\u001b[32mDescription generated : Indicates the specific achievement or milestone a player has unlocked in the game. This includes various advancements related to gameplay actions and crafting recipes.\u001b[0m\n",
      "\u001b[34mGenerating description for field: item-give\u001b[0m\n",
      "\u001b[32mNew name generated : item_given\u001b[0m\n",
      "\u001b[32mDescription generated : Indicates the item provided to the player during a trade event. The value specifies the quantity and type of the item.\u001b[0m\n",
      "\u001b[34mGenerating description for field: item-take\u001b[0m\n",
      "\u001b[32mNew name generated : item_taken\u001b[0m\n",
      "\u001b[32mDescription generated : Details the item taken during an event, including its amount and type. This field is used in trade events to specify what items were removed from a player's inventory.\u001b[0m\n",
      "\u001b[34mGenerating description for field: victim_name\u001b[0m\n",
      "\u001b[32mNew name generated : victim_entity_name\u001b[0m\n",
      "\u001b[32mDescription generated : The name of the entity that was killed by the player. This field specifies which entity type was targeted during the player kill event.\u001b[0m\n",
      "\u001b[34mGenerating description for field: victim_type\u001b[0m\n",
      "\u001b[32mNew name generated : victim_entity_type\u001b[0m\n",
      "\u001b[32mDescription generated : Indicates the type of entity that was killed by a player. This field specifically notes the classification of the victim, such as 'SPIDER'.\u001b[0m\n",
      "\u001b[34mGenerating description for field: exp\u001b[0m\n",
      "\u001b[32mNew name generated : experience_points\u001b[0m\n",
      "\u001b[32mDescription generated : The amount of experience points gained by the player during an event. This value reflects the player's progress in the game.\u001b[0m\n",
      "\u001b[34mGenerating description for field: reason\u001b[0m\n",
      "\u001b[32mNew name generated : event_reason\u001b[0m\n",
      "\u001b[32mDescription generated : This field holds the explanation for why a player joined or performed an action. Currently, it is not utilized and remains empty in the event records.\u001b[0m\n",
      "\u001b[34mGenerating description for field: npc-reply\u001b[0m\n",
      "\u001b[32mNew name generated : npc_reply\u001b[0m\n",
      "\u001b[32mDescription generated : This field represents the response or dialogue from an NPC. It is currently not utilized in event data.\u001b[0m\n",
      "\u001b[34mGenerating description for field: entity\u001b[0m\n",
      "\u001b[32mNew name generated : entity_reference\u001b[0m\n",
      "\u001b[32mDescription generated : This field signifies the entity involved in the event, although it is currently not utilized in the data. It remains empty in all instances throughout the recorded events.\u001b[0m\n",
      "\u001b[34mGenerating description for field: refer-code\u001b[0m\n",
      "\u001b[32mNew name generated : reference_code\u001b[0m\n",
      "\u001b[32mDescription generated : This field is intended to store a unique reference or code associated with an event, but currently holds no value. It is present in various player-related events.\u001b[0m\n",
      "\u001b[34mGenerating description for field: msg\u001b[0m\n",
      "\u001b[32mNew name generated : message_content\u001b[0m\n",
      "\u001b[32mDescription generated : This field holds the content of messages sent by players during events. It may be empty if no message was sent.\u001b[0m\n",
      "\u001b[34mGenerating description for field: entity_type\u001b[0m\n",
      "\u001b[32mNew name generated : entity_identifier\u001b[0m\n",
      "\u001b[32mDescription generated : Represents the type or category of entity associated with the event. This field is currently not utilized in any event entries.\u001b[0m\n",
      "\u001b[34mGenerating description for field: reply\u001b[0m\n",
      "\u001b[32mNew name generated : response_message\u001b[0m\n",
      "\u001b[32mDescription generated : This field is intended to capture any responses or messages related to player interactions. It is currently not utilized and holds no values.\u001b[0m\n",
      "\u001b[34mGenerating description for field: segment_source_name\u001b[0m\n",
      "\u001b[32mNew name generated : segment_event_source\u001b[0m\n",
      "\u001b[32mDescription generated : Indicates the source of the event segment for tracking purposes. This field may not contain any value in certain events.\u001b[0m\n"
     ]
    }
   ],
   "source": [
    "input = generate_field_name_description(input)"
   ]
  },
  {
   "cell_type": "code",
   "execution_count": 8,
   "metadata": {},
   "outputs": [],
   "source": [
    "from langgraph.graph import StateGraph, START, END"
   ]
  },
  {
   "cell_type": "code",
   "execution_count": 9,
   "metadata": {},
   "outputs": [],
   "source": [
    "from src.states.extrect_correct_field_names_states import ExtractCorrectFieldNamesStates"
   ]
  },
  {
   "cell_type": "code",
   "execution_count": 16,
   "metadata": {},
   "outputs": [],
   "source": [
    "from src.nodes.extrect_correct_field_names_nodes import  retrive_node"
   ]
  },
  {
   "cell_type": "code",
   "execution_count": null,
   "metadata": {},
   "outputs": [],
   "source": [
    "def should_retrive_for_element_info(ExtractCorrectFieldNamesStates: ExtractCorrectFieldNamesStates):\n",
    "    if ExtractCorrectFieldNamesStates[\"messages\"][-1]['tool_calls']:\n",
    "        return \"retrieve\"\n",
    "    else:\n",
    "        return \"preprocess_field_info\""
   ]
  },
  {
   "cell_type": "code",
   "execution_count": null,
   "metadata": {},
   "outputs": [
    {
     "data": {
      "text/plain": [
       "<langgraph.graph.state.StateGraph at 0x17594ab40>"
      ]
     },
     "execution_count": 36,
     "metadata": {},
     "output_type": "execute_result"
    }
   ],
   "source": [
    "workflow = StateGraph(ExtractCorrectFieldNamesStates)\n",
    "\n",
    "workflow.add_node(\"get_first_few_elements\", get_first_few_elements)\n",
    "workflow.add_node(\"get_element_meaning\", get_element_meaning)\n",
    "workflow.add_node(\"preprocess_field_info\", preprocess_field_info)\n",
    "workflow.add_node(\"generate_field_name_description\", generate_field_name_description)\n",
    "workflow.add_node(\"retireve\", retrive_node)\n",
    "\n",
    "workflow.add_conditional_edges(\n",
    "    \"get_element_meaning\",\n",
    "    should_retrive_for_element_info,\n",
    "    {\"preprocess_field_info\" : \"preprocess_field_info\", \"retireve\" : \"retireve\"}\n",
    ")\n",
    "\n",
    "workflow.add_edge(\"preprocess_field_info\", \"generate_field_name_description\")\n",
    "workflow.add_edge(\"generate_field_name_description\", END)\n",
    "\n",
    "workflow.add_edge(START, get_first_few_elements)\n"
   ]
  },
  {
   "cell_type": "code",
   "execution_count": 37,
   "metadata": {},
   "outputs": [
    {
     "ename": "ValueError",
     "evalue": "Node `get_first_few_elements` is not reachable",
     "output_type": "error",
     "traceback": [
      "\u001b[0;31m---------------------------------------------------------------------------\u001b[0m",
      "\u001b[0;31mValueError\u001b[0m                                Traceback (most recent call last)",
      "Cell \u001b[0;32mIn[37], line 1\u001b[0m\n\u001b[0;32m----> 1\u001b[0m compiled \u001b[38;5;241m=\u001b[39m \u001b[43mworkflow\u001b[49m\u001b[38;5;241;43m.\u001b[39;49m\u001b[43mcompile\u001b[49m\u001b[43m(\u001b[49m\u001b[43m)\u001b[49m\n",
      "File \u001b[0;32m/Volumes/RenzovPersonal/packages/LiveOpsFrontDashboardMain/backend/.venv/lib/python3.12/site-packages/langgraph/graph/state.py:519\u001b[0m, in \u001b[0;36mStateGraph.compile\u001b[0;34m(self, checkpointer, store, interrupt_before, interrupt_after, debug)\u001b[0m\n\u001b[1;32m    516\u001b[0m interrupt_after \u001b[38;5;241m=\u001b[39m interrupt_after \u001b[38;5;129;01mor\u001b[39;00m []\n\u001b[1;32m    518\u001b[0m \u001b[38;5;66;03m# validate the graph\u001b[39;00m\n\u001b[0;32m--> 519\u001b[0m \u001b[38;5;28;43mself\u001b[39;49m\u001b[38;5;241;43m.\u001b[39;49m\u001b[43mvalidate\u001b[49m\u001b[43m(\u001b[49m\n\u001b[1;32m    520\u001b[0m \u001b[43m    \u001b[49m\u001b[43minterrupt\u001b[49m\u001b[38;5;241;43m=\u001b[39;49m\u001b[43m(\u001b[49m\n\u001b[1;32m    521\u001b[0m \u001b[43m        \u001b[49m\u001b[43m(\u001b[49m\u001b[43minterrupt_before\u001b[49m\u001b[43m \u001b[49m\u001b[38;5;28;43;01mif\u001b[39;49;00m\u001b[43m \u001b[49m\u001b[43minterrupt_before\u001b[49m\u001b[43m \u001b[49m\u001b[38;5;241;43m!=\u001b[39;49m\u001b[43m \u001b[49m\u001b[38;5;124;43m\"\u001b[39;49m\u001b[38;5;124;43m*\u001b[39;49m\u001b[38;5;124;43m\"\u001b[39;49m\u001b[43m \u001b[49m\u001b[38;5;28;43;01melse\u001b[39;49;00m\u001b[43m \u001b[49m\u001b[43m[\u001b[49m\u001b[43m]\u001b[49m\u001b[43m)\u001b[49m\u001b[43m \u001b[49m\u001b[38;5;241;43m+\u001b[39;49m\u001b[43m \u001b[49m\u001b[43minterrupt_after\u001b[49m\n\u001b[1;32m    522\u001b[0m \u001b[43m        \u001b[49m\u001b[38;5;28;43;01mif\u001b[39;49;00m\u001b[43m \u001b[49m\u001b[43minterrupt_after\u001b[49m\u001b[43m \u001b[49m\u001b[38;5;241;43m!=\u001b[39;49m\u001b[43m \u001b[49m\u001b[38;5;124;43m\"\u001b[39;49m\u001b[38;5;124;43m*\u001b[39;49m\u001b[38;5;124;43m\"\u001b[39;49m\n\u001b[1;32m    523\u001b[0m \u001b[43m        \u001b[49m\u001b[38;5;28;43;01melse\u001b[39;49;00m\u001b[43m \u001b[49m\u001b[43m[\u001b[49m\u001b[43m]\u001b[49m\n\u001b[1;32m    524\u001b[0m \u001b[43m    \u001b[49m\u001b[43m)\u001b[49m\n\u001b[1;32m    525\u001b[0m \u001b[43m\u001b[49m\u001b[43m)\u001b[49m\n\u001b[1;32m    527\u001b[0m \u001b[38;5;66;03m# prepare output channels\u001b[39;00m\n\u001b[1;32m    528\u001b[0m output_channels \u001b[38;5;241m=\u001b[39m (\n\u001b[1;32m    529\u001b[0m     \u001b[38;5;124m\"\u001b[39m\u001b[38;5;124m__root__\u001b[39m\u001b[38;5;124m\"\u001b[39m\n\u001b[1;32m    530\u001b[0m     \u001b[38;5;28;01mif\u001b[39;00m \u001b[38;5;28mlen\u001b[39m(\u001b[38;5;28mself\u001b[39m\u001b[38;5;241m.\u001b[39mschemas[\u001b[38;5;28mself\u001b[39m\u001b[38;5;241m.\u001b[39moutput]) \u001b[38;5;241m==\u001b[39m \u001b[38;5;241m1\u001b[39m\n\u001b[0;32m   (...)\u001b[0m\n\u001b[1;32m    536\u001b[0m     ]\n\u001b[1;32m    537\u001b[0m )\n",
      "File \u001b[0;32m/Volumes/RenzovPersonal/packages/LiveOpsFrontDashboardMain/backend/.venv/lib/python3.12/site-packages/langgraph/graph/graph.py:401\u001b[0m, in \u001b[0;36mGraph.validate\u001b[0;34m(self, interrupt)\u001b[0m\n\u001b[1;32m    399\u001b[0m \u001b[38;5;28;01mfor\u001b[39;00m node \u001b[38;5;129;01min\u001b[39;00m \u001b[38;5;28mself\u001b[39m\u001b[38;5;241m.\u001b[39mnodes:\n\u001b[1;32m    400\u001b[0m     \u001b[38;5;28;01mif\u001b[39;00m node \u001b[38;5;129;01mnot\u001b[39;00m \u001b[38;5;129;01min\u001b[39;00m all_targets:\n\u001b[0;32m--> 401\u001b[0m         \u001b[38;5;28;01mraise\u001b[39;00m \u001b[38;5;167;01mValueError\u001b[39;00m(\u001b[38;5;124mf\u001b[39m\u001b[38;5;124m\"\u001b[39m\u001b[38;5;124mNode `\u001b[39m\u001b[38;5;132;01m{\u001b[39;00mnode\u001b[38;5;132;01m}\u001b[39;00m\u001b[38;5;124m` is not reachable\u001b[39m\u001b[38;5;124m\"\u001b[39m)\n\u001b[1;32m    402\u001b[0m \u001b[38;5;28;01mfor\u001b[39;00m target \u001b[38;5;129;01min\u001b[39;00m all_targets:\n\u001b[1;32m    403\u001b[0m     \u001b[38;5;28;01mif\u001b[39;00m target \u001b[38;5;129;01mnot\u001b[39;00m \u001b[38;5;129;01min\u001b[39;00m \u001b[38;5;28mself\u001b[39m\u001b[38;5;241m.\u001b[39mnodes \u001b[38;5;129;01mand\u001b[39;00m target \u001b[38;5;241m!=\u001b[39m END:\n",
      "\u001b[0;31mValueError\u001b[0m: Node `get_first_few_elements` is not reachable"
     ]
    }
   ],
   "source": [
    "compiled = workflow.compile()"
   ]
  },
  {
   "cell_type": "code",
   "execution_count": null,
   "metadata": {},
   "outputs": [],
   "source": []
  }
 ],
 "metadata": {
  "kernelspec": {
   "display_name": ".venv",
   "language": "python",
   "name": "python3"
  },
  "language_info": {
   "codemirror_mode": {
    "name": "ipython",
    "version": 3
   },
   "file_extension": ".py",
   "mimetype": "text/x-python",
   "name": "python",
   "nbconvert_exporter": "python",
   "pygments_lexer": "ipython3",
   "version": "3.12.3"
  }
 },
 "nbformat": 4,
 "nbformat_minor": 2
}
