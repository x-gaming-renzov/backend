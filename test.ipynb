{
 "cells": [
  {
   "cell_type": "code",
   "execution_count": 1,
   "metadata": {},
   "outputs": [],
   "source": [
    "import json, os"
   ]
  },
  {
   "cell_type": "code",
   "execution_count": null,
   "metadata": {},
   "outputs": [
    {
     "name": "stderr",
     "output_type": "stream",
     "text": [
      "USER_AGENT environment variable not set, consider setting it to identify your requests.\n"
     ]
    }
   ],
   "source": [
    "from src.nodes.extrect_correct_field_names_nodes import get_first_few_elements, get_element_meaning, preprocess_field_info"
   ]
  },
  {
   "cell_type": "code",
   "execution_count": 3,
   "metadata": {},
   "outputs": [],
   "source": [
    "input = {\n",
    "    'file_name': 'data.json',\n",
    "    'user_id' : 'p007',\n",
    "    'user_session_id' : '1',\n",
    "    'data_info_from_user' : \"json array of events triggered by all minecraft players in a server in choronological order\"\n",
    "}"
   ]
  },
  {
   "cell_type": "code",
   "execution_count": 4,
   "metadata": {},
   "outputs": [
    {
     "name": "stdout",
     "output_type": "stream",
     "text": [
      "\u001b[34mChecking if directory exists: /Volumes/RenzovPersonal/packages/LiveOpsFrontDashboardMain/backend/temp/p007/1\u001b[0m\n",
      "\u001b[32mDirectory checked/created: /Volumes/RenzovPersonal/packages/LiveOpsFrontDashboardMain/backend/temp/p007/1\u001b[0m\n",
      "\u001b[34mUpdated file name path: /Volumes/RenzovPersonal/packages/LiveOpsFrontDashboardMain/backend/temp/p007/1/data.json\u001b[0m\n",
      "\u001b[34mOpening file: /Volumes/RenzovPersonal/packages/LiveOpsFrontDashboardMain/backend/temp/p007/1/data.json\u001b[0m\n",
      "\u001b[32mFirst few elements extracted successfully\u001b[0m\n"
     ]
    }
   ],
   "source": [
    "input = get_first_few_elements(input)"
   ]
  },
  {
   "cell_type": "code",
   "execution_count": 5,
   "metadata": {},
   "outputs": [],
   "source": [
    "input = get_element_meaning(input)"
   ]
  },
  {
   "cell_type": "code",
   "execution_count": null,
   "metadata": {},
   "outputs": [],
   "source": [
    "input = preprocess_field_info(input)"
   ]
  }
 ],
 "metadata": {
  "kernelspec": {
   "display_name": ".venv",
   "language": "python",
   "name": "python3"
  },
  "language_info": {
   "codemirror_mode": {
    "name": "ipython",
    "version": 3
   },
   "file_extension": ".py",
   "mimetype": "text/x-python",
   "name": "python",
   "nbconvert_exporter": "python",
   "pygments_lexer": "ipython3",
   "version": "3.12.3"
  }
 },
 "nbformat": 4,
 "nbformat_minor": 2
}
