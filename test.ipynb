{
 "cells": [
  {
   "cell_type": "code",
   "execution_count": null,
   "metadata": {},
   "outputs": [],
   "source": [
    "import src.graph"
   ]
  },
  {
   "cell_type": "code",
   "execution_count": null,
   "metadata": {},
   "outputs": [],
   "source": [
    "input = {\n",
    "    'file_name': 'smaller_data.json',\n",
    "    'user_id' : 'p007',\n",
    "    'user_session_id' : '1',\n",
    "    'data_info_from_user' : \"json array of events triggered by all minecraft players in a server in choronological order\",\n",
    "    'messages' : []\n",
    "}"
   ]
  },
  {
   "cell_type": "code",
   "execution_count": null,
   "metadata": {},
   "outputs": [],
   "source": [
    "workflow_complied = src.graph.get_feild_name_correcting_task_graph()"
   ]
  },
  {
   "cell_type": "code",
   "execution_count": null,
   "metadata": {},
   "outputs": [],
   "source": [
    "from IPython.display import Image, display\n",
    "\n",
    "try:\n",
    "    display(Image(workflow_complied.get_graph().draw_mermaid_png()))\n",
    "    #save it to a file\n",
    "    workflow_complied.get_graph().draw_mermaid_png(output_file_path=\"workflow.png\")\n",
    "except Exception:\n",
    "    pass"
   ]
  },
  {
   "cell_type": "code",
   "execution_count": null,
   "metadata": {},
   "outputs": [],
   "source": [
    "out = workflow_complied.invoke(input)"
   ]
  },
  {
   "cell_type": "code",
   "execution_count": null,
   "metadata": {},
   "outputs": [],
   "source": [
    "\"\"\"with open(\"temp/p007/1/out.json\", \"r\") as f:\n",
    "    data = f.read()\n",
    "    print(len(data))\"\"\""
   ]
  },
  {
   "cell_type": "code",
   "execution_count": null,
   "metadata": {},
   "outputs": [],
   "source": [
    "\"\"\"with open(\"temp/p007/1/data.json\", \"r\") as f:\n",
    "    data = f.read()\n",
    "    print(len(data))\"\"\""
   ]
  },
  {
   "cell_type": "code",
   "execution_count": null,
   "metadata": {},
   "outputs": [],
   "source": [
    "from gcloud import storage\n",
    "from oauth2client.service_account import ServiceAccountCredentials\n",
    "import os, dotenv\n",
    "\n",
    "dotenv.load_dotenv()\n",
    "\n",
    "credentials = ServiceAccountCredentials.from_json_keyfile_name('gcreds.json')\n",
    "client = storage.Client(credentials=credentials, project='assetgeneration')\n",
    "bucket = client.get_bucket('xg_live_ops')"
   ]
  },
  {
   "cell_type": "code",
   "execution_count": null,
   "metadata": {},
   "outputs": [],
   "source": [
    "bucket.blob(f'{input[\"user_id\"]}/{input[\"user_session_id\"]}/smaller_data.json').upload_from_filename(\"temp/p007/1/smaller_data.json\")"
   ]
  },
  {
   "cell_type": "code",
   "execution_count": null,
   "metadata": {},
   "outputs": [],
   "source": [
    "import json"
   ]
  },
  {
   "cell_type": "code",
   "execution_count": null,
   "metadata": {},
   "outputs": [],
   "source": [
    "bucket.blob(f'{input[\"user_id\"]}/{input[\"user_session_id\"]}/out.json').upload_from_string(data=json.dumps(dict(out)), content_type=\"application/json\")"
   ]
  },
  {
   "cell_type": "code",
   "execution_count": null,
   "metadata": {},
   "outputs": [],
   "source": [
    "d = json.loads(out['field_info_list'][0].model_dump_json())"
   ]
  },
  {
   "cell_type": "code",
   "execution_count": null,
   "metadata": {},
   "outputs": [],
   "source": [
    "import src.flat.flat.main"
   ]
  },
  {
   "cell_type": "code",
   "execution_count": null,
   "metadata": {},
   "outputs": [],
   "source": [
    "src.flat.flat.main.main(\"temp/p007/1/\", \"original_copy.json\")"
   ]
  },
  {
   "cell_type": "code",
   "execution_count": 4,
   "metadata": {},
   "outputs": [],
   "source": [
    "import json "
   ]
  },
  {
   "cell_type": "code",
   "execution_count": 5,
   "metadata": {},
   "outputs": [],
   "source": [
    "def flatten_json_leaving_lists(data, parent_key='', sep='.'):\n",
    "    \"\"\"\n",
    "    Flatten JSON data into a list of flat dictionaries, leaving list values as is.\n",
    "\n",
    "    Parameters:\n",
    "    data (dict, list, or any): The JSON data to flatten.\n",
    "    parent_key (str): The base key string used during recursion.\n",
    "    sep (str): Separator used when concatenating keys.\n",
    "\n",
    "    Returns:\n",
    "    list: A list of flat dictionaries.\n",
    "    \"\"\"\n",
    "    flat_list = []\n",
    "\n",
    "    if isinstance(data, dict):\n",
    "        flat_dict = {}\n",
    "        for k, v in data.items():\n",
    "            new_key = f\"{parent_key}{sep}{k}\" if parent_key else k\n",
    "            if isinstance(v, dict):\n",
    "                # Flatten nested dictionary\n",
    "                nested_flat_list = flatten_json_leaving_lists(v, new_key, sep=sep)\n",
    "                if nested_flat_list:\n",
    "                    flat_dict.update(nested_flat_list[0])\n",
    "            elif isinstance(v, list):\n",
    "                # Leave list values as is\n",
    "                flat_dict[new_key] = v\n",
    "            else:\n",
    "                # Primitive value\n",
    "                flat_dict[new_key] = v\n",
    "        flat_list.append(flat_dict)\n",
    "    elif isinstance(data, list):\n",
    "        # Process each item in the list\n",
    "        for item in data:\n",
    "            item_flat_list = flatten_json_leaving_lists(item, parent_key=parent_key, sep=sep)\n",
    "            flat_list.extend(item_flat_list)\n",
    "    else:\n",
    "        # Data is a primitive value\n",
    "        flat_list.append({parent_key or 'value': data})\n",
    "\n",
    "    return flat_list\n"
   ]
  },
  {
   "cell_type": "code",
   "execution_count": 6,
   "metadata": {},
   "outputs": [
    {
     "name": "stdout",
     "output_type": "stream",
     "text": [
      "[{'event_001.event_type': 'player_join', 'event_001.player_id': 'player_12345', 'event_001.timestamp': '2024-11-21T10:00:00Z', 'event_001.location.x': 100, 'event_001.location.y': 64, 'event_001.location.z': -300, 'event_001.details.message': 'Player joined the game', 'event_002.event_type': 'block_break', 'event_002.player_id': 'player_12345', 'event_002.timestamp': '2024-11-21T10:05:00Z', 'event_002.location.x': 105, 'event_002.location.y': 65, 'event_002.location.z': -310, 'event_002.details.block_type': 'stone', 'event_002.details.tool_used': 'diamond_pickaxe', 'event_002.details.dropped_items': ['cobblestone'], 'event_003.event_type': 'chat_message', 'event_003.player_id': 'player_67890', 'event_003.timestamp': '2024-11-21T10:10:00Z', 'event_003.details.message': 'Anyone up for a raid?', 'event_003.details.chat_channel': 'global', 'event_004.event_type': 'player_death', 'event_004.player_id': 'player_12345', 'event_004.timestamp': '2024-11-21T10:15:00Z', 'event_004.location.x': 120, 'event_004.location.y': 63, 'event_004.location.z': -320, 'event_004.details.cause': 'fall_damage', 'event_004.details.killer': None, 'event_004.details.items_dropped': ['diamond_pickaxe', 'iron_helmet'], 'event_005.event_type': 'mob_kill', 'event_005.player_id': 'player_67890', 'event_005.timestamp': '2024-11-21T10:20:00Z', 'event_005.location.x': 150, 'event_005.location.y': 70, 'event_005.location.z': -200, 'event_005.details.mob_type': 'zombie', 'event_005.details.tool_used': 'iron_sword', 'event_005.details.dropped_items': ['rotten_flesh', 'iron_ingot'], 'event_006.event_type': 'item_craft', 'event_006.player_id': 'player_12345', 'event_006.timestamp': '2024-11-21T10:25:00Z', 'event_006.location.x': 100, 'event_006.location.y': 64, 'event_006.location.z': -300, 'event_006.details.crafted_item': 'golden_apple', 'event_006.details.ingredients_used': ['gold_ingot', 'apple']}]\n"
     ]
    }
   ],
   "source": [
    "with open(\"src/flat/test_jsons/t1.json\", \"r\") as f:\n",
    "    json_data = json.load(f)\n",
    "    print(flatten_json_leaving_lists(json_data))"
   ]
  },
  {
   "cell_type": "code",
   "execution_count": 8,
   "metadata": {},
   "outputs": [],
   "source": [
    "with open(\"src/flat/test_jsons/t2.json\", \"w\") as f:\n",
    "    json.dump(flatten_json_leaving_lists(json_data), f, indent=4)"
   ]
  },
  {
   "cell_type": "code",
   "execution_count": null,
   "metadata": {},
   "outputs": [],
   "source": []
  }
 ],
 "metadata": {
  "kernelspec": {
   "display_name": ".venv",
   "language": "python",
   "name": "python3"
  },
  "language_info": {
   "codemirror_mode": {
    "name": "ipython",
    "version": 3
   },
   "file_extension": ".py",
   "mimetype": "text/x-python",
   "name": "python",
   "nbconvert_exporter": "python",
   "pygments_lexer": "ipython3",
   "version": "3.12.3"
  }
 },
 "nbformat": 4,
 "nbformat_minor": 2
}
