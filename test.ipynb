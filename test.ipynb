{
 "cells": [
  {
   "cell_type": "code",
   "execution_count": null,
   "metadata": {},
   "outputs": [],
   "source": [
    "import src.graph"
   ]
  },
  {
   "cell_type": "code",
   "execution_count": null,
   "metadata": {},
   "outputs": [],
   "source": [
    "input = {\n",
    "    'file_name': 'smaller_data.json',\n",
    "    'user_id' : 'p007',\n",
    "    'user_session_id' : '1',\n",
    "    'data_info_from_user' : \"json array of events triggered by all minecraft players in a server in choronological order\",\n",
    "    'messages' : []\n",
    "}"
   ]
  },
  {
   "cell_type": "code",
   "execution_count": null,
   "metadata": {},
   "outputs": [],
   "source": [
    "workflow_complied = src.graph.get_feild_name_correcting_task_graph()"
   ]
  },
  {
   "cell_type": "code",
   "execution_count": null,
   "metadata": {},
   "outputs": [],
   "source": [
    "from IPython.display import Image, display\n",
    "\n",
    "try:\n",
    "    display(Image(workflow_complied.get_graph().draw_mermaid_png()))\n",
    "    #save it to a file\n",
    "    workflow_complied.get_graph().draw_mermaid_png(output_file_path=\"workflow.png\")\n",
    "except Exception:\n",
    "    pass"
   ]
  },
  {
   "cell_type": "code",
   "execution_count": null,
   "metadata": {},
   "outputs": [],
   "source": [
    "out = workflow_complied.invoke(input)"
   ]
  },
  {
   "cell_type": "code",
   "execution_count": null,
   "metadata": {},
   "outputs": [],
   "source": [
    "\"\"\"with open(\"temp/p007/1/out.json\", \"r\") as f:\n",
    "    data = f.read()\n",
    "    print(len(data))\"\"\""
   ]
  },
  {
   "cell_type": "code",
   "execution_count": null,
   "metadata": {},
   "outputs": [],
   "source": [
    "\"\"\"with open(\"temp/p007/1/data.json\", \"r\") as f:\n",
    "    data = f.read()\n",
    "    print(len(data))\"\"\""
   ]
  },
  {
   "cell_type": "code",
   "execution_count": 1,
   "metadata": {},
   "outputs": [],
   "source": [
    "from gcloud import storage\n",
    "from oauth2client.service_account import ServiceAccountCredentials\n",
    "import os, dotenv\n",
    "\n",
    "dotenv.load_dotenv()\n",
    "\n",
    "credentials = ServiceAccountCredentials.from_json_keyfile_name('gcreds.json')\n",
    "client = storage.Client(credentials=credentials, project='assetgeneration')\n",
    "bucket = client.get_bucket('xg_live_ops')"
   ]
  },
  {
   "cell_type": "code",
   "execution_count": null,
   "metadata": {},
   "outputs": [],
   "source": [
    "blob = bucket.blob(f'p007/1/smaller_data.json')"
   ]
  },
  {
   "cell_type": "code",
   "execution_count": null,
   "metadata": {},
   "outputs": [],
   "source": [
    "blob.public_url"
   ]
  },
  {
   "cell_type": "code",
   "execution_count": null,
   "metadata": {},
   "outputs": [],
   "source": [
    "import json"
   ]
  },
  {
   "cell_type": "code",
   "execution_count": null,
   "metadata": {},
   "outputs": [],
   "source": [
    "bucket.blob(f'{input[\"user_id\"]}/{input[\"user_session_id\"]}/out.json').upload_from_string(data=json.dumps(dict(out)), content_type=\"application/json\")"
   ]
  },
  {
   "cell_type": "code",
   "execution_count": null,
   "metadata": {},
   "outputs": [],
   "source": [
    "d = json.loads(out['field_info_list'][0].model_dump_json())"
   ]
  },
  {
   "cell_type": "code",
   "execution_count": null,
   "metadata": {},
   "outputs": [],
   "source": [
    "import src.flat.flat.main"
   ]
  },
  {
   "cell_type": "code",
   "execution_count": null,
   "metadata": {},
   "outputs": [],
   "source": [
    "src.flat.flat.main.main(\"temp/p007/1/\", \"original_copy.json\")"
   ]
  },
  {
   "cell_type": "code",
   "execution_count": null,
   "metadata": {},
   "outputs": [],
   "source": [
    "import json "
   ]
  },
  {
   "cell_type": "code",
   "execution_count": null,
   "metadata": {},
   "outputs": [],
   "source": [
    "def flatten_json_leaving_lists(data, parent_key='', sep='.'):\n",
    "    \"\"\"\n",
    "    Flatten JSON data into a list of flat dictionaries, leaving list values as is.\n",
    "\n",
    "    Parameters:\n",
    "    data (dict, list, or any): The JSON data to flatten.\n",
    "    parent_key (str): The base key string used during recursion.\n",
    "    sep (str): Separator used when concatenating keys.\n",
    "\n",
    "    Returns:\n",
    "    list: A list of flat dictionaries.\n",
    "    \"\"\"\n",
    "    flat_list = []\n",
    "\n",
    "    if isinstance(data, dict):\n",
    "        flat_dict = {}\n",
    "        for k, v in data.items():\n",
    "            new_key = f\"{parent_key}{sep}{k}\" if parent_key else k\n",
    "            if isinstance(v, dict):\n",
    "                # Flatten nested dictionary\n",
    "                nested_flat_list = flatten_json_leaving_lists(v, new_key, sep=sep)\n",
    "                if nested_flat_list:\n",
    "                    flat_dict.update(nested_flat_list[0])\n",
    "            elif isinstance(v, list):\n",
    "                # Leave list values as is\n",
    "                flat_dict[new_key] = v\n",
    "            else:\n",
    "                # Primitive value\n",
    "                flat_dict[new_key] = v\n",
    "        flat_list.append(flat_dict)\n",
    "    elif isinstance(data, list):\n",
    "        # Process each item in the list\n",
    "        for item in data:\n",
    "            item_flat_list = flatten_json_leaving_lists(item, parent_key=parent_key, sep=sep)\n",
    "            flat_list.extend(item_flat_list)\n",
    "    else:\n",
    "        # Data is a primitive value\n",
    "        flat_list.append({parent_key or 'value': data})\n",
    "\n",
    "    return flat_list\n"
   ]
  },
  {
   "cell_type": "code",
   "execution_count": 2,
   "metadata": {},
   "outputs": [],
   "source": [
    "from itertools import islice\n",
    "import json"
   ]
  },
  {
   "cell_type": "code",
   "execution_count": 3,
   "metadata": {},
   "outputs": [],
   "source": [
    "def read_first_lines(file_path, num_lines):\n",
    "    with open(file_path, 'r') as file:\n",
    "        return list(islice(file, num_lines))"
   ]
  },
  {
   "cell_type": "code",
   "execution_count": 4,
   "metadata": {},
   "outputs": [],
   "source": [
    "with open(\"temp/2b640d07-3ad2-472f-8c36-d2c4d62e9e92/6f4b4df5-08c8-4346-93a6-344a87bda899/out.json\", \"r\") as f:\n",
    "    data = json.loads(f.read())"
   ]
  },
  {
   "cell_type": "code",
   "execution_count": 5,
   "metadata": {},
   "outputs": [
    {
     "data": {
      "text/plain": [
       "dict_keys(['retained_player_events', 'player_event_history'])"
      ]
     },
     "execution_count": 5,
     "metadata": {},
     "output_type": "execute_result"
    }
   ],
   "source": [
    "data[0].keys()"
   ]
  },
  {
   "cell_type": "code",
   "execution_count": null,
   "metadata": {},
   "outputs": [],
   "source": [
    "with open(\"src/flat/test_jsons/t2.json\", \"w\") as f:\n",
    "    json.dump(flatten_json_leaving_lists(json_data), f, indent=4)"
   ]
  },
  {
   "cell_type": "code",
   "execution_count": null,
   "metadata": {},
   "outputs": [],
   "source": [
    "from pandas import DataFrame\n",
    "import json"
   ]
  },
  {
   "cell_type": "code",
   "execution_count": null,
   "metadata": {},
   "outputs": [],
   "source": [
    "user_id = \"9fcd9778-dd90-435e-864c-d16d082273e9\"\n",
    "user_session_id = \"9add04ac-9eb8-4c24-9eca-40ac833c76ef\""
   ]
  },
  {
   "cell_type": "code",
   "execution_count": null,
   "metadata": {},
   "outputs": [],
   "source": [
    "def get_changes_to_field_names(USER_ID, USER_SESSION_ID) -> DataFrame:\n",
    "    with open(f\"\"\"temp/{USER_ID}/{USER_SESSION_ID}/data_info.json\"\"\", \"r\") as f:\n",
    "        data_info = json.load(f)\n",
    "\n",
    "    changes = []\n",
    "    for field_info in data_info:\n",
    "        if field_info == \"meaning_of_elements_in_data\":\n",
    "            continue\n",
    "        changes.append({\n",
    "            \"field_name\": data_info[field_info]['field_name'],\n",
    "            \"field_name_corrected\": data_info[field_info]['field_new_name']\n",
    "        })\n",
    "\n",
    "    return DataFrame(changes)"
   ]
  },
  {
   "cell_type": "code",
   "execution_count": null,
   "metadata": {},
   "outputs": [],
   "source": [
    "df = get_changes_to_field_names(user_id, user_session_id)"
   ]
  },
  {
   "cell_type": "code",
   "execution_count": null,
   "metadata": {},
   "outputs": [],
   "source": [
    "df"
   ]
  },
  {
   "cell_type": "code",
   "execution_count": null,
   "metadata": {},
   "outputs": [],
   "source": [
    "blob = bucket.blob(f'SJ5WRDaERqO0xmzrYsfgOi4qQH52/1dc4f238-8128-4cb6-a422-6749f053e334/field_name_changes.json')"
   ]
  },
  {
   "cell_type": "code",
   "execution_count": 2,
   "metadata": {},
   "outputs": [],
   "source": [
    "import json\n"
   ]
  },
  {
   "cell_type": "code",
   "execution_count": 3,
   "metadata": {},
   "outputs": [],
   "source": [
    "with open (\"temp/323febd9-11b0-4d6b-b3c9-8b8e21898dd4/f339b2b7-b5d4-49fe-9731-60770f8b4510/data_info.json\", \"r\") as f:\n",
    "    data = json.load(f)"
   ]
  },
  {
   "cell_type": "code",
   "execution_count": 4,
   "metadata": {},
   "outputs": [],
   "source": [
    "with open(\"temp/323febd9-11b0-4d6b-b3c9-8b8e21898dd4/f339b2b7-b5d4-49fe-9731-60770f8b4510/daily_retained_players/data_info.json\", \"r\") as f:\n",
    "    data1 = json.load(f)"
   ]
  },
  {
   "cell_type": "code",
   "execution_count": 5,
   "metadata": {},
   "outputs": [],
   "source": [
    "with open(\"temp/323febd9-11b0-4d6b-b3c9-8b8e21898dd4/f339b2b7-b5d4-49fe-9731-60770f8b4510/d7_retained_player_activity_log/data_info.json\", \"r\") as f:\n",
    "    data2 = json.load(f)"
   ]
  },
  {
   "cell_type": "code",
   "execution_count": 6,
   "metadata": {},
   "outputs": [],
   "source": [
    "with open (\"temp/323febd9-11b0-4d6b-b3c9-8b8e21898dd4/f339b2b7-b5d4-49fe-9731-60770f8b4510/d7_retained_player_activity_log/player_event_log/data_info.json\", \"r\") as f:\n",
    "    data3 = json.load(f)"
   ]
  },
  {
   "cell_type": "code",
   "execution_count": 7,
   "metadata": {},
   "outputs": [],
   "source": [
    "field_mapping = {}"
   ]
  },
  {
   "cell_type": "code",
   "execution_count": 19,
   "metadata": {},
   "outputs": [
    {
     "name": "stdout",
     "output_type": "stream",
     "text": [
      "meaning_of_elements_in_data\n",
      "parent_index_do_not_change\n",
      "mp_country_code\n",
      "event\n",
      "victim_name\n",
      "victim_type\n",
      "distinct_id\n",
      "trade-suggested\n",
      "world\n",
      "timestamp\n",
      "time\n",
      "server\n",
      "advancement\n",
      "username\n",
      "entity_type\n",
      "cause\n",
      "trade-menu\n",
      "reason\n",
      "npc-reply\n",
      "first-chat\n",
      "item\n",
      "item-take\n",
      "item-give\n",
      "block\n",
      "message\n",
      "entity\n"
     ]
    }
   ],
   "source": [
    "for data_info in data3:\n",
    "    print(data_info)\n",
    "    if data_info == \"meaning_of_elements_in_data\":\n",
    "        continue\n",
    "    if data_info == 'parent_index_do_not_change':\n",
    "        continue\n",
    "    element = {}\n",
    "    element['old_name'] = data3[data_info]['field_name']\n",
    "    element['new_name'] = data3[data_info]['field_new_name']\n",
    "    element['score'] = data3[data_info]['semantic_score']\n",
    "    field_mapping[data3[data_info]['field_name']] = element"
   ]
  },
  {
   "cell_type": "code",
   "execution_count": 20,
   "metadata": {},
   "outputs": [
    {
     "data": {
      "text/plain": [
       "{'d7_retained': {'old_name': 'd7_retained',\n",
       "  'new_name': 'd7_retained_player_activity_log',\n",
       "  'score': 4.0},\n",
       " 'd14_retained': {'old_name': 'd14_retained',\n",
       "  'new_name': 'daily_retained_players',\n",
       "  'score': 4.0},\n",
       " 'events': {'old_name': 'events',\n",
       "  'new_name': 'player_event_log',\n",
       "  'score': 4.0},\n",
       " 'player_id': {'old_name': 'player_id',\n",
       "  'new_name': 'unique_player_identifier',\n",
       "  'score': 4.0},\n",
       " 'mp_country_code': {'old_name': 'mp_country_code',\n",
       "  'new_name': 'player_country_code',\n",
       "  'score': 4.0},\n",
       " 'event': {'old_name': 'event', 'new_name': 'event_type', 'score': 4.0},\n",
       " 'victim_name': {'old_name': 'victim_name',\n",
       "  'new_name': 'chat_message_sender',\n",
       "  'score': 4.0},\n",
       " 'victim_type': {'old_name': 'victim_type',\n",
       "  'new_name': 'victim_player_names',\n",
       "  'score': 4.0},\n",
       " 'distinct_id': {'old_name': 'distinct_id',\n",
       "  'new_name': 'player_unique_identifier',\n",
       "  'score': 4.0},\n",
       " 'trade-suggested': {'old_name': 'trade-suggested',\n",
       "  'new_name': 'suggested_trade_value',\n",
       "  'score': 4.0},\n",
       " 'world': {'old_name': 'world',\n",
       "  'new_name': 'virtual_game_environment',\n",
       "  'score': 4.0},\n",
       " 'timestamp': {'old_name': 'timestamp',\n",
       "  'new_name': 'event_occurred_at',\n",
       "  'score': 4.0},\n",
       " 'time': {'old_name': 'time', 'new_name': 'event_timestamp_int', 'score': 4.0},\n",
       " 'server': {'old_name': 'server',\n",
       "  'new_name': 'game_server_name',\n",
       "  'score': 4.0},\n",
       " 'advancement': {'old_name': 'advancement',\n",
       "  'new_name': 'player_advancement_id',\n",
       "  'score': 4.0},\n",
       " 'username': {'old_name': 'username',\n",
       "  'new_name': 'player_username',\n",
       "  'score': 4.0},\n",
       " 'entity_type': {'old_name': 'entity_type',\n",
       "  'new_name': 'traded_item_details',\n",
       "  'score': 4.0},\n",
       " 'cause': {'old_name': 'cause',\n",
       "  'new_name': 'block_interaction_cause',\n",
       "  'score': 4.0},\n",
       " 'trade-menu': {'old_name': 'trade-menu',\n",
       "  'new_name': 'npc_trade_suggestions',\n",
       "  'score': 4.0},\n",
       " 'reason': {'old_name': 'reason',\n",
       "  'new_name': 'interaction_purpose',\n",
       "  'score': 4.0},\n",
       " 'npc-reply': {'old_name': 'npc-reply',\n",
       "  'new_name': 'npc_trade_response_items',\n",
       "  'score': 4.0},\n",
       " 'first-chat': {'old_name': 'first-chat',\n",
       "  'new_name': 'first_chat_message',\n",
       "  'score': 4.0},\n",
       " 'item': {'old_name': 'item', 'new_name': 'item_id', 'score': 4.0},\n",
       " 'item-take': {'old_name': 'item-take',\n",
       "  'new_name': 'item_taken_details',\n",
       "  'score': 4.0},\n",
       " 'item-give': {'old_name': 'item-give',\n",
       "  'new_name': 'item_giving_transaction_details',\n",
       "  'score': 4.0},\n",
       " 'block': {'old_name': 'block',\n",
       "  'new_name': 'crafting_recipe_block',\n",
       "  'score': 4.0},\n",
       " 'message': {'old_name': 'message',\n",
       "  'new_name': 'player_interaction_message',\n",
       "  'score': 4.0},\n",
       " 'entity': {'old_name': 'entity',\n",
       "  'new_name': 'player_interaction_entity',\n",
       "  'score': 4.0}}"
      ]
     },
     "execution_count": 20,
     "metadata": {},
     "output_type": "execute_result"
    }
   ],
   "source": [
    "field_mapping"
   ]
  },
  {
   "cell_type": "code",
   "execution_count": 21,
   "metadata": {},
   "outputs": [],
   "source": [
    "with open(\"temp_data_info.json\", \"w\") as f:\n",
    "    json.dump(field_mapping, f, indent=4)    "
   ]
  },
  {
   "cell_type": "code",
   "execution_count": null,
   "metadata": {},
   "outputs": [],
   "source": []
  }
 ],
 "metadata": {
  "kernelspec": {
   "display_name": ".venv",
   "language": "python",
   "name": "python3"
  },
  "language_info": {
   "codemirror_mode": {
    "name": "ipython",
    "version": 3
   },
   "file_extension": ".py",
   "mimetype": "text/x-python",
   "name": "python",
   "nbconvert_exporter": "python",
   "pygments_lexer": "ipython3",
   "version": "3.12.3"
  }
 },
 "nbformat": 4,
 "nbformat_minor": 2
}
