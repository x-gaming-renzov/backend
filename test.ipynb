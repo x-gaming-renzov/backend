{
 "cells": [
  {
   "cell_type": "code",
   "execution_count": null,
   "metadata": {},
   "outputs": [],
   "source": [
    "import src.graph"
   ]
  },
  {
   "cell_type": "code",
   "execution_count": 4,
   "metadata": {},
   "outputs": [],
   "source": [
    "input = {\n",
    "    'file_name': 'smaller_data.json',\n",
    "    'user_id' : 'p007',\n",
    "    'user_session_id' : '1',\n",
    "    'data_info_from_user' : \"json array of events triggered by all minecraft players in a server in choronological order\",\n",
    "    'messages' : []\n",
    "}"
   ]
  },
  {
   "cell_type": "code",
   "execution_count": null,
   "metadata": {},
   "outputs": [],
   "source": [
    "workflow_complied = src.graph.get_feild_name_correcting_task_graph()"
   ]
  },
  {
   "cell_type": "code",
   "execution_count": null,
   "metadata": {},
   "outputs": [],
   "source": [
    "from IPython.display import Image, display\n",
    "\n",
    "try:\n",
    "    display(Image(workflow_complied.get_graph().draw_mermaid_png()))\n",
    "    #save it to a file\n",
    "    workflow_complied.get_graph().draw_mermaid_png(output_file_path=\"workflow.png\")\n",
    "except Exception:\n",
    "    pass"
   ]
  },
  {
   "cell_type": "code",
   "execution_count": null,
   "metadata": {},
   "outputs": [],
   "source": [
    "out = workflow_complied.invoke(input)"
   ]
  },
  {
   "cell_type": "code",
   "execution_count": null,
   "metadata": {},
   "outputs": [],
   "source": [
    "\"\"\"with open(\"temp/p007/1/out.json\", \"r\") as f:\n",
    "    data = f.read()\n",
    "    print(len(data))\"\"\""
   ]
  },
  {
   "cell_type": "code",
   "execution_count": null,
   "metadata": {},
   "outputs": [],
   "source": [
    "\"\"\"with open(\"temp/p007/1/data.json\", \"r\") as f:\n",
    "    data = f.read()\n",
    "    print(len(data))\"\"\""
   ]
  },
  {
   "cell_type": "code",
   "execution_count": 5,
   "metadata": {},
   "outputs": [],
   "source": [
    "from gcloud import storage\n",
    "from oauth2client.service_account import ServiceAccountCredentials\n",
    "import os, dotenv\n",
    "\n",
    "dotenv.load_dotenv()\n",
    "\n",
    "credentials = ServiceAccountCredentials.from_json_keyfile_name('gcreds.json')\n",
    "client = storage.Client(credentials=credentials, project='assetgeneration')\n",
    "bucket = client.get_bucket('xg_live_ops')"
   ]
  },
  {
   "cell_type": "code",
   "execution_count": 9,
   "metadata": {},
   "outputs": [],
   "source": [
    "bucket.blob(f'{input[\"user_id\"]}/{input[\"user_session_id\"]}/smaller_data.json').upload_from_filename(\"temp/p007/1/smaller_data.json\")"
   ]
  },
  {
   "cell_type": "code",
   "execution_count": null,
   "metadata": {},
   "outputs": [],
   "source": [
    "import json"
   ]
  },
  {
   "cell_type": "code",
   "execution_count": null,
   "metadata": {},
   "outputs": [],
   "source": [
    "bucket.blob(f'{input[\"user_id\"]}/{input[\"user_session_id\"]}/out.json').upload_from_string(data=json.dumps(dict(out)), content_type=\"application/json\")"
   ]
  },
  {
   "cell_type": "code",
   "execution_count": null,
   "metadata": {},
   "outputs": [],
   "source": [
    "d = json.loads(out['field_info_list'][0].model_dump_json())"
   ]
  },
  {
   "cell_type": "code",
   "execution_count": 1,
   "metadata": {},
   "outputs": [],
   "source": [
    "import src.flat.flat.main"
   ]
  },
  {
   "cell_type": "code",
   "execution_count": 5,
   "metadata": {},
   "outputs": [
    {
     "name": "stdout",
     "output_type": "stream",
     "text": [
      "Original JSON copied to: temp/p007/1/original.json\n",
      "Action JSON saved to: temp/p007/1/action.json\n",
      "Successfully saved data to temp/p007/1/original_data.json\n",
      "Flattened JSON saved to: temp/p007/1/original_data.json\n"
     ]
    }
   ],
   "source": [
    "src.flat.flat.main.main(\"temp/p007/1/\", \"original_data.json\")"
   ]
  },
  {
   "cell_type": "code",
   "execution_count": null,
   "metadata": {},
   "outputs": [],
   "source": []
  }
 ],
 "metadata": {
  "kernelspec": {
   "display_name": ".venv",
   "language": "python",
   "name": "python3"
  },
  "language_info": {
   "codemirror_mode": {
    "name": "ipython",
    "version": 3
   },
   "file_extension": ".py",
   "mimetype": "text/x-python",
   "name": "python",
   "nbconvert_exporter": "python",
   "pygments_lexer": "ipython3",
   "version": "3.12.3"
  }
 },
 "nbformat": 4,
 "nbformat_minor": 2
}
